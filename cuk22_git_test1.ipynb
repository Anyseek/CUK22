{
 "cells": [
  {
   "cell_type": "code",
   "execution_count": null,
   "metadata": {},
   "outputs": [],
   "source": [
    "# CUK 22 Git Test Program\n",
    "# 사용방법\n",
    "# 1. Github 주소에서 로컬에 연동한다.\n",
    "#    - CUK Github 주소 : https://github.com/Anyseek/CUK22\n",
    "# 2. 연동방법\n",
    "#    - git desktop 프로그램을 다운받음\n",
    "#    - CUK Github 주소와 연동함\n",
    "# 3. 연동파일\n",
    "#    - file name : cuk22_git_test1.ipynb\n",
    "\n",
    "print('1st User Name: 안영식')\n",
    "# 2번째 수정자는 같은 형식으로 작성하여 CUK Github에 올릴것 "
   ]
  }
 ],
 "metadata": {
  "kernelspec": {
   "display_name": "Python 3.10.4 64-bit",
   "language": "python",
   "name": "python3"
  },
  "language_info": {
   "name": "python",
   "version": "3.10.4"
  },
  "orig_nbformat": 4,
  "vscode": {
   "interpreter": {
    "hash": "f738d81f9e31068f5371a10be53c038f3e8a850e78e899cdd04f2317a516043a"
   }
  }
 },
 "nbformat": 4,
 "nbformat_minor": 2
}
