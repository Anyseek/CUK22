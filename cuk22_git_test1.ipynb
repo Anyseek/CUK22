{
 "cells": [
  {
   "cell_type": "code",
   "execution_count": null,
   "metadata": {},
   "outputs": [],
   "source": [
    "# CUK 22 Git Test Program\n",
    "# 사용방법\n",
    "# 1. Github 주소에서 본 파일을 로컬로 다운받는다.\n",
    "#    Github 주소 : https://github.com/Anyseek/CUK22"
   ]
  }
 ],
 "metadata": {
  "kernelspec": {
   "display_name": "Python 3.10.4 64-bit",
   "language": "python",
   "name": "python3"
  },
  "language_info": {
   "name": "python",
   "version": "3.10.4"
  },
  "orig_nbformat": 4,
  "vscode": {
   "interpreter": {
    "hash": "f738d81f9e31068f5371a10be53c038f3e8a850e78e899cdd04f2317a516043a"
   }
  }
 },
 "nbformat": 4,
 "nbformat_minor": 2
}
